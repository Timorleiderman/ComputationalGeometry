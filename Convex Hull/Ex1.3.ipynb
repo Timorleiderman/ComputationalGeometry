{
 "cells": [
  {
   "cell_type": "markdown",
   "metadata": {},
   "source": [
    "Let E be an unsorted set of n segments that are the edges of a convex\n",
    "polygon. Describe an O(nlogn) algorithm that computes from E a list\n",
    "containing all vertices of the polygon, sorted in clockwise order."
   ]
  },
  {
   "cell_type": "markdown",
   "metadata": {},
   "source": [
    "To solve this problem, we can follow the following steps:\n",
    "\n",
    "1. Create an empty list called \"vertices\" to store the vertices of the polygon.\n",
    "2. Iterate through each segment in the set E.\n",
    "3. For each segment, extract its two endpoints and add them to the \"vertices\" list if they are not already present.\n",
    "4. Sort the \"vertices\" list in counterclockwise order based on their polar angles with respect to the centroid of the polygon.\n",
    "5. Reverse the \"vertices\" list to obtain the vertices in clockwise order.\n",
    "6. Return the sorted \"vertices\" list.\n",
    "\n",
    "The time complexity of this algorithm is O(nlogn) because the sorting step takes O(nlogn) time.\n"
   ]
  },
  {
   "cell_type": "code",
   "execution_count": 61,
   "metadata": {},
   "outputs": [],
   "source": [
    "import math\n",
    "import matplotlib.pyplot as plt"
   ]
  },
  {
   "cell_type": "code",
   "execution_count": 62,
   "metadata": {},
   "outputs": [],
   "source": [
    "\n",
    "\n",
    "def compute_polygon_vertices(E):\n",
    "    # E = unsorted_points\n",
    "    \n",
    "    vertices = []\n",
    "    centroid_x = 0\n",
    "    centroid_y = 0\n",
    "\n",
    "    # Step 2: Iterate through each segment in E\n",
    "    for i in range(0, len(E), 2):\n",
    "        # Step 3: Extract endpoints of the segment\n",
    "        start_point, end_point = E[i], E[i+1]\n",
    "\n",
    "        # Add start_point to vertices if not already present\n",
    "        if start_point not in vertices:\n",
    "            vertices.append(start_point)\n",
    "            centroid_x += start_point[0]\n",
    "            centroid_y += start_point[1]\n",
    "\n",
    "        # Add end_point to vertices if not already present\n",
    "        if end_point not in vertices:\n",
    "            vertices.append(end_point)\n",
    "            centroid_x += end_point[0]\n",
    "            centroid_y += end_point[1]\n",
    "\n",
    "    # Step 4: Sort vertices based on polar angles with respect to centroid\n",
    "    centroid_x /= len(vertices)\n",
    "    centroid_y /= len(vertices)\n",
    "    vertices.sort(key=lambda point: math.atan2(point[1] - centroid_y, point[0] - centroid_x))\n",
    "\n",
    "    # Step 5: Reverse vertices to obtain clockwise order\n",
    "    vertices.reverse()\n",
    "\n",
    "    # Step 6: Return sorted vertices\n",
    "    return vertices"
   ]
  },
  {
   "cell_type": "code",
   "execution_count": 63,
   "metadata": {},
   "outputs": [
    {
     "data": {
      "text/plain": [
       "[(1, 3),\n",
       " (2, 5),\n",
       " (4, 6),\n",
       " (5, 3),\n",
       " (4, 2),\n",
       " (3, 1),\n",
       " (2, 0),\n",
       " (1, 0),\n",
       " (0, 0),\n",
       " (0.5, 1.5)]"
      ]
     },
     "execution_count": 63,
     "metadata": {},
     "output_type": "execute_result"
    }
   ],
   "source": [
    "test = [(0,0), (1,0), (2,0), (3,1), (4,2), (0.5,1.5), (5,3), (4, 6), (2, 5), (1, 3)]\n",
    "vert = compute_polygon_vertices(test)\n",
    "vert"
   ]
  },
  {
   "cell_type": "code",
   "execution_count": null,
   "metadata": {},
   "outputs": [],
   "source": []
  },
  {
   "cell_type": "code",
   "execution_count": 64,
   "metadata": {},
   "outputs": [
    {
     "data": {
      "image/png": "[encoded data removed]",
      "text/plain": [
       "<Figure size 640x480 with 1 Axes>"
      ]
     },
     "metadata": {},
     "output_type": "display_data"
    }
   ],
   "source": [
    "# plt.scatter(y , x)\n",
    "x = [i[0] for i in vert]\n",
    "y = [i[1] for i in vert]\n",
    "fig, ax = plt.subplots()\n",
    "ax.scatter(x, y)\n",
    "for i, txt in enumerate(x):\n",
    "    ax.annotate(i, (x[i], y[i]))"
   ]
  }
 ],
 "metadata": {
  "kernelspec": {
   "display_name": "base",
   "language": "python",
   "name": "python3"
  },
  "language_info": {
   "codemirror_mode": {
    "name": "ipython",
    "version": 3
   },
   "file_extension": ".py",
   "mimetype": "text/x-python",
   "name": "python",
   "nbconvert_exporter": "python",
   "pygments_lexer": "ipython3",
   "version": "3.11.4"
  },
  "orig_nbformat": 4
 },
 "nbformat": 4,
 "nbformat_minor": 2
}
