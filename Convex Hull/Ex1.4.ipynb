{
 "cells": [
  {
   "cell_type": "markdown",
   "metadata": {},
   "source": [
    "\n",
    "For the convex hull algorithm \\\n",
    "we have to be able to test whether a point\n",
    "$r$ lies left or right of the directed line through two points $p$ and $q$. \\\n",
    "Let\n",
    "$$\n",
    "p = (px, py) \\\\\n",
    "q = (qx,qy) \\\\\n",
    "r = (rx,ry) \\\\\n",
    "$$\n",
    "a. Show that the sign of the determinant\n",
    "\n",
    "\n",
    "$$\n",
    "D=\n",
    "\\begin{vmatrix}\n",
    "1 & px & py\\\\\n",
    "1 & qx & qy\\\\\n",
    "1 & rx & ry\\\\\n",
    "\\end{vmatrix}\n",
    "$$\n",
    "\n",
    "determines whether $r$ lies left or right of the line.\n",
    "\n",
    "b. Show that $|D|$ in fact is twice the surface of the triangle determined by\n",
    "$p$, $q$, and $r$.\n",
    "\n",
    "c. Why is this an attractive way to implement the basic test in algorithm\n",
    "CONVEXHULL? Give an argument for both integer and floating point\n",
    "coordinates. \n"
   ]
  },
  {
   "cell_type": "markdown",
   "metadata": {},
   "source": [
    "# Solution"
   ]
  },
  {
   "cell_type": "markdown",
   "metadata": {},
   "source": [
    "a. To determine whether point $r$ lies left or right of the directed line through points $p$ and $q$, we can calculate the determinant $D$ of the matrix:\n",
    "\n",
    "$$\n",
    "D=\n",
    "\\begin{vmatrix}\n",
    "1 & px & py\\\\\n",
    "1 & qx & qy\\\\\n",
    "1 & rx & ry\\\\\n",
    "\\end{vmatrix}\n",
    "$$ \\\n",
    "\n",
    "\n",
    "If $D > 0$, then $r$ lies to the left of the line. \\\n",
    "If $D < 0$, then $r$ lies to the right of the line. \\\n",
    "If $D = 0$, then $r$ lies on the line.\n",
    "\n",
    "The determinant $D$ represents the signed area of the triangle formed by the points $p$, $q$, and $r$.\n",
    "If $r$ lies to the left of the directed line through $p$ and $q$, then the triangle will have a positive area.\n",
    "If $r$ lies to the right of the directed line through $p$ and $q$, then the triangle will have a negative area.\n",
    "If $r$ lies on the directed line through $p$ and $q$, then the triangle will have an area of zero.\n",
    "\n",
    "b. To show that $|D|$ is twice the surface of the triangle determined by points $p$, $q$, and $r$, we can use the formula for the area of a triangle given its vertices:\n",
    "\n",
    "$Area = 1/2 * | (px*qy + qx*ry + rx*py) - (py*qx + qy*rx + ry*px) |$\n",
    "\n",
    "Expanding this expression, we get:\n",
    "\n",
    "$Area = 1/2 * | px*qy + qx*ry + rx*py - py*qx - qy*rx - ry*px |$\n",
    "\n",
    "Notice that this expression is equal to |D|, so we have:\n",
    "\n",
    "$Area = 1/2 * |D|$\n",
    "\n",
    "Therefore, $|D|$ is indeed twice the surface of the triangle determined by points $p$, $q$, and $r$.\n",
    "\n",
    "c. This is an attractive way to implement the basic test in the CONVEXHULL algorithm because it is efficient and works for both integer and floating-point coordinates.\n",
    "\n",
    "For integer coordinates, the determinant can be calculated exactly without any loss of precision. The sign of the determinant can be determined using simple arithmetic operations, making it a fast and reliable test.\n",
    "\n",
    "For floating-point coordinates, the determinant can still be calculated accurately, although there may be some small rounding errors. However, these errors are usually negligible and do not affect the overall correctness of the test. Therefore, the determinant-based test is also suitable for floating-point coordinates.\n",
    "\n",
    "Overall, the determinant-based test is a simple and efficient way to determine whether a point lies left or right of a line, making it an attractive choice for implementing the CONVEXHULL algorithm.\n"
   ]
  },
  {
   "cell_type": "markdown",
   "metadata": {},
   "source": []
  }
 ],
 "metadata": {
  "kernelspec": {
   "display_name": "base",
   "language": "python",
   "name": "python3"
  },
  "language_info": {
   "codemirror_mode": {
    "name": "ipython",
    "version": 3
   },
   "file_extension": ".py",
   "mimetype": "text/x-python",
   "name": "python",
   "nbconvert_exporter": "python",
   "pygments_lexer": "ipython3",
   "version": "3.11.4"
  },
  "orig_nbformat": 4
 },
 "nbformat": 4,
 "nbformat_minor": 2
}
