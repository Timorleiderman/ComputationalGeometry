{
 "cells": [
  {
   "cell_type": "markdown",
   "metadata": {},
   "source": [
    "# Ex1.1"
   ]
  },
  {
   "cell_type": "markdown",
   "metadata": {},
   "source": [
    "The convex hull of a set $S$ is defined to be the intersection of all convex\n",
    "sets that contain $S$. For the convex hull of a set of points it was indicated\n",
    "that the convex hull is the convex set with smallest perimeter. We want to\n",
    "show that these are equivalent definitions.\n"
   ]
  },
  {
   "cell_type": "markdown",
   "metadata": {},
   "source": [
    "a. Prove that the intersection of two convex sets is again convex. This implies that the intersection of a finite family of convex sets is convex as well.\n",
    "\n"
   ]
  },
  {
   "cell_type": "markdown",
   "metadata": {},
   "source": [
    "## Solution "
   ]
  },
  {
   "cell_type": "markdown",
   "metadata": {},
   "source": [
    "To prove that the intersection of two convex sets is again convex, we need to show that for any two convex sets $A$ and $B$, their intersection $A \\cap B$ is also convex.\n",
    "\n",
    "Let $x, y \\in A \\cap B$ be any two points in the intersection. Since $x$ and $y$ are in both $A$ and $B$, they must satisfy the convexity condition for both sets.\n",
    "\n",
    "For set $A$, this means that for any $t \\in [0, 1]$, the point $tx + (1-t)y$ is also in $A$. Similarly, for set $B$, we have that for any $t \\in [0, 1]$, the point $tx + (1-t)y$ is also in $B$.\n",
    "\n",
    "Since $tx + (1-t)y$ is in both $A$ and $B$ for any $t \\in [0, 1]$, it is also in their intersection $A \\cap B$. Therefore, $A \\cap B$ satisfies the convexity condition, and is thus convex.\n",
    "\n",
    "Now, let's consider a finite family of convex sets $A_1, A_2, \\ldots, A_n$. We can prove by induction that their intersection $A_1 \\cap A_2 \\cap \\ldots \\cap A_n$ is convex.\n",
    "\n",
    "For the base case, $n = 2$, we have already shown that the intersection of two convex sets is convex.\n",
    "\n",
    "Now, assume that the intersection of $n$ convex sets is convex. We want to show that the intersection of $n+1$ convex sets is also convex.\n",
    "\n",
    "Let $A_1 \\cap A_2 \\cap \\ldots \\cap A_n = C$ be the intersection of the first $n$ sets. Then, we can rewrite the intersection of $n+1$ sets as $(A_1 \\cap A_2 \\cap \\ldots \\cap A_n) \\cap A_{n+1} = C \\cap A_{n+1}$.\n",
    "\n",
    "Since $C$ is convex by the induction hypothesis, and $A_{n+1}$ is convex by assumption, their intersection $C \\cap A_{n+1}$ is also convex, as we have shown in the base case.\n",
    "\n",
    "Therefore, by induction, the intersection of a finite family of convex sets is convex."
   ]
  },
  {
   "cell_type": "markdown",
   "metadata": {},
   "source": [
    "b. Prove that the smallest perimeter polygon $P$ containing a set of points $p$ is convex.\n",
    "\n"
   ]
  },
  {
   "cell_type": "markdown",
   "metadata": {},
   "source": [
    "## Solution "
   ]
  },
  {
   "cell_type": "markdown",
   "metadata": {},
   "source": [
    "To prove that the smallest perimeter polygon $P$ containing a set of points $p$ is convex, we can use the definition of a convex hull. By definition, the convex hull of $p$ is the intersection of all convex sets that contain $p$. Since the intersection of convex sets is convex (as proven in part a), the convex hull of $p$ is convex.\n",
    "\n",
    "Now, let $P$ be the smallest perimeter polygon containing $p$. Assume for contradiction that $P$ is not convex. Then, there exists a line segment $AB$ that is entirely outside of $P$. Since $P$ is the smallest perimeter polygon, all points in $p$ must be inside or on the boundary of $P$. However, since $AB$ is outside of $P$, there must be at least one point in $p$ that is outside of $P$, which contradicts the assumption that $P$ is the smallest perimeter polygon containing $p$. Therefore, $P$ must be convex."
   ]
  },
  {
   "cell_type": "markdown",
   "metadata": {},
   "source": [
    "c. Prove that any convex set containing the set of points $p$ contains the smallest perimeter polygon $P$."
   ]
  },
  {
   "cell_type": "markdown",
   "metadata": {},
   "source": [
    "## Solution "
   ]
  },
  {
   "cell_type": "markdown",
   "metadata": {},
   "source": [
    "To prove that any convex set containing the set of points $p$ contains the smallest perimeter polygon $P$, we can use the definition of a convex hull. By definition, the convex hull of $p$ is the intersection of all convex sets that contain $p$. Since any convex set containing $p$ is one of the sets in the intersection, it must contain the convex hull of $p$, which is $P$. Therefore, any convex set containing $p$ contains the smallest perimeter polygon $P$."
   ]
  }
 ],
 "metadata": {
  "language_info": {
   "name": "python"
  },
  "orig_nbformat": 4
 },
 "nbformat": 4,
 "nbformat_minor": 2
}
