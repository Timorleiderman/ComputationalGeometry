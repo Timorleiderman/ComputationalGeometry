{
 "cells": [
  {
   "cell_type": "markdown",
   "metadata": {},
   "source": [
    "# Ex1.2\n",
    "Let $p$ be a set of points in the plane. Let $P$ be the convex polygon whose\n",
    "vertices are points from $p$ and that contains all points in $p$. Prove that this\n",
    "polygon $P$ is uniquely defined, and that it is the intersection of all convex\n",
    "sets containing $p$."
   ]
  },
  {
   "cell_type": "markdown",
   "metadata": {},
   "source": [
    "# Solution"
   ]
  },
  {
   "cell_type": "markdown",
   "metadata": {},
   "source": [
    "To prove that the polygon $P$ is uniquely defined, we need to show that there is only one convex polygon that contains all the points in $p$ and whose vertices are points from $p$.\n",
    "\n",
    "First, let's assume that there are two such polygons, $P_1$ and $P_2$, with vertices $v_1$ and $v_2$ respectively. Since $P_1$ contains all the points in $p$, it must also contain $v_2$. Similarly, $P_2$ contains all the points in $p$, so it must also contain $v_1$. \n",
    "\n",
    "Now, consider the line segment connecting $v_1$ and $v_2$. Since both $v_1$ and $v_2$ are vertices of $P_1$ and $P_2$, this line segment lies entirely within both polygons. However, since both $P_1$ and $P_2$ are convex, this line segment must also lie entirely within the intersection of $P_1$ and $P_2$. \n",
    "\n",
    "But the intersection of $P_1$ and $P_2$ is a convex set that contains all the points in $p$, and it must also contain the line segment connecting $v_1$ and $v_2$. This means that the intersection of $P_1$ and $P_2$ is a convex polygon with vertices $v_1$ and $v_2$. \n",
    "\n",
    "Since $P_1$ and $P_2$ were assumed to be two different polygons that contain all the points in $p$, this means that the intersection of $P_1$ and $P_2$ is a convex polygon that is contained within both $P_1$ and $P_2$. But this is only possible if $P_1$ and $P_2$ are the same polygon. Therefore, the polygon $P$ is uniquely defined.\n",
    "\n",
    "To prove that $P$ is the intersection of all convex sets containing $p$, we need to show that $P$ is contained within any convex set that contains all the points in $p$, and that $P$ contains all the points in $p$.\n",
    "\n",
    "First, let's consider any convex set $C$ that contains all the points in $p$. Since $C$ is convex, it must contain all the line segments connecting any two points in $p$. This means that $C$ must contain all the line segments connecting the vertices of $P$. But the vertices of $P$ are points from $p$, so $C$ must contain all the vertices of $P$. \n",
    "\n",
    "Since $C$ contains all the vertices of $P$, it must also contain all the line segments connecting these vertices. But these line segments are the edges of $P$, so $C$ must contain all the edges of $P$. \n",
    "\n",
    "Therefore, $C$ contains all the vertices and edges of $P$, which means that $C$ contains the entire polygon $P$. Since $C$ was an arbitrary convex set containing all the points in $p$, this means that $P$ is contained within any convex set that contains all the points in $p$.\n",
    "\n",
    "Now, let's consider any point $x$ in $p$. Since $P$ is a convex polygon with vertices from $p$, it must contain $x$. Therefore, $P$ contains all the points in $p$.\n",
    "\n",
    "Therefore, $P$ is the intersection of all convex sets containing $p$."
   ]
  },
  {
   "cell_type": "markdown",
   "metadata": {},
   "source": []
  }
 ],
 "metadata": {
  "language_info": {
   "name": "python"
  },
  "orig_nbformat": 4
 },
 "nbformat": 4,
 "nbformat_minor": 2
}
